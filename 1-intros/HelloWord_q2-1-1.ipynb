{
 "cells": [
  {
   "cell_type": "markdown",
   "id": "22822ccb",
   "metadata": {},
   "source": [
    "## Ecrire un programme élémentaire avec qiskit \n",
    "(valide à v2.1)"
   ]
  },
  {
   "cell_type": "code",
   "execution_count": null,
   "id": "974916f6",
   "metadata": {},
   "outputs": [],
   "source": [
    "# valider que qiskit est installé à la version voulue\n",
    "\n",
    "import qiskit\n",
    "print(qiskit.__version__)"
   ]
  },
  {
   "cell_type": "code",
   "execution_count": null,
   "id": "9aeae520",
   "metadata": {},
   "outputs": [],
   "source": [
    "# Une syntaxe, la plus simple possible\n",
    "# importer la classe QuantumCircuit pour pouvoir l'instancier (qc)\n",
    "# ici avec 2 qubits \n",
    "from qiskit import QuantumCircuit\n",
    "\n",
    "qc = QuantumCircuit(2)\n",
    "\n",
    "# la construction du circuit consiste à ajouter des portes quantiques\n",
    "# qui sont des méthodes le l'objet qc de la classe QuantumCircuit\n",
    "# ici on ajoute une porte Hadamard sur le qubit 0   \n",
    "# et une porte CNOT (CX) entre le qubit 0 et le qubit 1\n",
    "# on demande l'ajout des opérations de mesure vers un registre classique\n",
    "# et on \"dessine\" le circuit pour vérifier qu'il est correct\n",
    "\n",
    "qc.h(0)             \n",
    "qc.cx(0, 1)       \n",
    "qc.measure_all()    \n",
    "qc.draw()\n"
   ]
  },
  {
   "cell_type": "code",
   "execution_count": null,
   "id": "8ea4930a",
   "metadata": {},
   "outputs": [],
   "source": [
    "# on utilise le sampler de l'API de Qiskit pour exécuter le circuit\n",
    "# il s'agit de cumuler les résultats d'un certain nombre de shots\n",
    "# ici on demande 100 shots\n",
    "\n",
    "# exerices, modifier le circuit pour obtenir :\n",
    "#     seulement le résutlat 11 \n",
    "#     seulement le résultat 01 (remarque : endian) \n",
    "#     une superposition des quatre résultats possibles \n",
    "\n",
    "from qiskit.primitives import StatevectorSampler\n",
    "sampler = StatevectorSampler()\n",
    "job = sampler.run([qc], shots=100)\n",
    "result = job.result()\n",
    "print(result)\n",
    "print(f\" > Counts: {result[0].data['meas'].get_counts()}\")"
   ]
  },
  {
   "cell_type": "markdown",
   "id": "fad62e93",
   "metadata": {},
   "source": [
    "##### JM.Torres \n",
    "20250721"
   ]
  }
 ],
 "metadata": {
  "kernelspec": {
   "display_name": "qc2",
   "language": "python",
   "name": "python3"
  },
  "language_info": {
   "codemirror_mode": {
    "name": "ipython",
    "version": 3
   },
   "file_extension": ".py",
   "mimetype": "text/x-python",
   "name": "python",
   "nbconvert_exporter": "python",
   "pygments_lexer": "ipython3",
   "version": "3.11.4"
  }
 },
 "nbformat": 4,
 "nbformat_minor": 5
}
