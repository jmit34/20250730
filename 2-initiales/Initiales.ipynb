{
 "cells": [
  {
   "cell_type": "markdown",
   "metadata": {},
   "source": [
    "#  Your initials\n",
    "\n",
    "Jean-Michel Torres torresjm@fr.ibm.com\n",
    "\n",
    "2020-01-30\n",
    "\n",
    "v2.1 : 2025-07-21\n",
    "\n",
    "### Use QISKit to build a circuit to produce superposition of 2 letters (your name and first-name initials)\n",
    "\n",
    "<ol>\n",
    "    <li>Instructions and data</li>\n",
    "    <li>Setup (imports)</li>\n",
    "    <li>Your circuit</li>\n",
    "    <li>Result</li>\n",
    "</ol>"
   ]
  },
  {
   "cell_type": "markdown",
   "metadata": {},
   "source": [
    "## 1. Instructions & Data\n",
    "\n",
    "\n",
    "The purpose of this exercise is to build a circuit that produces two equally probable bitstrings.\n",
    "\n",
    "We will use a 7 qubit register and the ASCII code to represent letters from A to Z. ($b'1000001'$ for A to $b'1011010'$ for Z). \n",
    "\n",
    "The result will show something like this : \n",
    "\n",
    "<img src=\"./GT-initials.png\" alt=\"Note: In order for images to show up in this jupyter notebook you need to select File => Trusted Notebook\" width=\"350 px\" align=\"center\">\n",
    "\n",
    "\n",
    "Program imports and letter display are provided. \n",
    "\n",
    "You will have to : \n",
    "\n",
    "- pick-up two different letters (firstname, name, use middlemane if firstname and name have the same) \n",
    "- look-up for their binary ASCII values\n",
    "- build a quantum circuit that outputs an equal superposition of those two values \n",
    "\n",
    "Here are the ASCII values for A to Z : \n",
    "\n",
    "\n",
    "\n",
    "| Letter | binary ASCII value | Letter | binary ASCII value | \n",
    "| ------ | ------------------ | ------ | ------------------ |\n",
    "| A | 100 0001 | N | 100 1110 |\n",
    "| B | 100 0010 | O | 100 1111 | \n",
    "| C | 100 0011 | P | 101 0000 |\n",
    "| D | 100 0100 | Q | 101 0001 |\n",
    "| E | 100 0101 | R | 101 0010 |\n",
    "| F | 100 0110 | S | 101 0011 |\n",
    "| G | 100 0111 | T | 101 0100 |\n",
    "| H | 100 1000 | U | 101 0101 |\n",
    "| I | 100 1001 | V | 101 0110 |\n",
    "| J | 100 1010 | W | 101 0111 |\n",
    "| K | 100 1011 | X | 101 1000 |\n",
    "| L | 100 1100 | Y | 101 1001 |\n",
    "| M | 100 1101 | Z | 101 1010 |\n"
   ]
  },
  {
   "cell_type": "markdown",
   "metadata": {},
   "source": [
    "## 2. Initializations (imports)"
   ]
  },
  {
   "cell_type": "code",
   "execution_count": null,
   "metadata": {},
   "outputs": [],
   "source": [
    "from qiskit import __version__\n",
    "print(f\"Running qiskit version : {__version__}\")\n",
    "\n",
    "from qiskit import QuantumCircuit\n",
    "import matplotlib.pyplot as plt\n"
   ]
  },
  {
   "cell_type": "markdown",
   "metadata": {},
   "source": [
    "## 3. Build your circuit"
   ]
  },
  {
   "cell_type": "code",
   "execution_count": null,
   "metadata": {},
   "outputs": [],
   "source": [
    "## construire votre circuit ici, il doit s'appeler \"qc\"\n",
    "############################################################\n",
    "# ici \n",
    "##############################################################\n",
    "## n'oubliez pas les mesures à la fin"
   ]
  },
  {
   "cell_type": "markdown",
   "metadata": {},
   "source": [
    "## 3. Run to view the result"
   ]
  },
  {
   "cell_type": "code",
   "execution_count": null,
   "metadata": {},
   "outputs": [],
   "source": [
    "# execute 10 runs \n",
    "from qiskit.primitives import StatevectorSampler\n",
    "sampler = StatevectorSampler()\n",
    "shots = 10\n",
    "job = sampler.run([qc], shots=shots)\n",
    "result = job.result()\n",
    "d = result[0].data['meas'].get_counts()\n"
   ]
  },
  {
   "cell_type": "code",
   "execution_count": null,
   "metadata": {},
   "outputs": [],
   "source": [
    "# afichage  \n",
    "\n",
    "def plot_letters(d, shots):\n",
    "    ### code from the qiskit.org smiley demo\n",
    "    for bitString in d:\n",
    "        char = chr(int( bitString[0:7] ,2)) # get string of the leftmost 7 bits and convert to an ASCII character\n",
    "        prob = d[bitString] / shots # fraction of shots for which this result occurred\n",
    "        # create plot with all characters on top of each other with alpha given by how often it turned up in the output\n",
    "        plt.annotate( char, (0.5,0.5), va=\"center\", ha=\"center\", color = (0,0,0, prob ), size = 300)\n",
    "        if (prob>0.05): # list prob and char for the dominant results (occurred for more than 5% of shots)\n",
    "            print(str(prob)+\"\\t\"+char)\n",
    "    plt.axis('off')\n",
    "    plt.show()\n",
    "    \n",
    "print(d) \n",
    "print(shots)\n",
    "plot_letters(d, shots)"
   ]
  }
 ],
 "metadata": {
  "kernelspec": {
   "display_name": "qc2",
   "language": "python",
   "name": "python3"
  },
  "language_info": {
   "codemirror_mode": {
    "name": "ipython",
    "version": 3
   },
   "file_extension": ".py",
   "mimetype": "text/x-python",
   "name": "python",
   "nbconvert_exporter": "python",
   "pygments_lexer": "ipython3",
   "version": "3.11.4"
  }
 },
 "nbformat": 4,
 "nbformat_minor": 4
}
